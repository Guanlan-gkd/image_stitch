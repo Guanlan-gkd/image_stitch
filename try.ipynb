{
 "cells": [
  {
   "cell_type": "code",
   "execution_count": 22,
   "metadata": {},
   "outputs": [
    {
     "name": "stdout",
     "output_type": "stream",
     "text": [
      "[[0, 0], [0, 0], [0, 0], [0, 0]]\n",
      "[[((100, 100), (300, 300), (200, 200)), ((300, 100), (100.0, 300), (0.0, 200)), ((500, 100), (700, 300), (600, 200)), ((700, 100), (500.0, 300), (400.0, 200)), ((900, 100), (1100, 300), (1000, 200))], [((100, 366), (300, 566), (200, 466)), ((300, 366), (100.0, 566), (0.0, 466)), ((500, 366), (700, 566), (600, 466)), ((700, 366), (500.0, 566), (400.0, 466)), ((900, 366), (1100, 566), (1000, 466))], [((100, 633), (300, 833), (200, 733)), ((300, 633), (100.0, 833), (0.0, 733)), ((500, 633), (700, 833), (600, 733)), ((700, 633), (500.0, 833), (400.0, 733)), ((900, 633), (1100, 833), (1000, 733))], [((100, 900), (300, 1100), (200, 1000)), ((300, 900), (100.0, 1100), (0.0, 1000)), ((500, 900), (700, 1100), (600, 1000)), ((700, 900), (500.0, 1100), (400.0, 1000)), ((900, 900), (1100, 1100), (1000, 1000))]]\n"
     ]
    }
   ],
   "source": [
    "ncol=4\n",
    "nrow=3\n",
    "x_0=200\n",
    "y_0=200\n",
    "x_end=1000\n",
    "y_end=1000\n",
    "w=200\n",
    "h=200\n",
    "\n",
    "# 定义每两列之间的长方形之间间隔\n",
    "gap_matrix = [[0 for _ in range(nrow-1)] for _ in range(ncol)]\n",
    "print(gap_matrix)\n",
    "\n",
    "# 生成所有矩形\n",
    "rect = []\n",
    "for i in range(ncol):\n",
    "    row = []\n",
    "    for j in range(nrow):\n",
    "        center_x = int(x_0 + j * (x_end - x_0) / (nrow - 1))\n",
    "        center_y = int(y_0 + i * (y_end - y_0) / (ncol - 1))\n",
    "        x1 = int(center_x - w/2)\n",
    "        y1 = int(center_y - h/2)\n",
    "        x2 = int(center_x + w/2)\n",
    "        y2 = int(center_y + h/2)\n",
    "        row.append(((x1, y1), (x2, y2), (center_x, center_y)))\n",
    "        # 添加间隔\n",
    "        if j < nrow-1:\n",
    "            center_x_gap = int(center_x + (x_end - x_0) / (nrow - 1) * gap_matrix[i][j])\n",
    "            row.append(((x2, y1), (center_x_gap - w/2, y2), (center_x_gap - (x_end - x_0) / (nrow - 1) / 2, center_y)))\n",
    "        \n",
    "    rect.append(row)\n",
    "print(rect)"
   ]
  },
  {
   "cell_type": "code",
   "execution_count": 17,
   "metadata": {},
   "outputs": [],
   "source": [
    "import json\n",
    "\n",
    "# 定义要保存的变量\n",
    "data = {\n",
    "    \"ncol\": ncol,\n",
    "    \"nrow\": nrow,\n",
    "    \"x_0\": x_0,\n",
    "    \"y_0\": y_0,\n",
    "    \"x_end\": x_end,\n",
    "    \"y_end\": y_end,\n",
    "    \"w\": w,\n",
    "    \"h\": h\n",
    "}\n",
    "\n",
    "# 保存变量到JSON文件\n",
    "with open(\"variables.json\", \"w\") as f:\n",
    "    json.dump(data, f, indent=4)\n",
    "\n",
    "\n",
    "import json\n",
    "\n",
    "# 读取JSON文件并解析变量\n",
    "with open(\"variables.json\", \"r\") as f:\n",
    "    data = json.load(f)\n",
    "    ncol = data[\"ncol\"]\n",
    "    nrow = data[\"nrow\"]\n",
    "    x_0 = data[\"x_0\"]\n",
    "    y_0 = data[\"y_0\"]\n",
    "    x_end = data[\"x_end\"]\n",
    "    y_end = data[\"y_end\"]\n",
    "    w = data[\"w\"]\n",
    "    h = data[\"h\"]"
   ]
  }
 ],
 "metadata": {
  "kernelspec": {
   "display_name": "Python 3",
   "language": "python",
   "name": "python3"
  },
  "language_info": {
   "codemirror_mode": {
    "name": "ipython",
    "version": 3
   },
   "file_extension": ".py",
   "mimetype": "text/x-python",
   "name": "python",
   "nbconvert_exporter": "python",
   "pygments_lexer": "ipython3",
   "version": "3.9.13"
  },
  "orig_nbformat": 4
 },
 "nbformat": 4,
 "nbformat_minor": 2
}
